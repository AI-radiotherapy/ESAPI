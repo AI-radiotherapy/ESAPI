{
 "cells": [
  {
   "cell_type": "code",
   "execution_count": 1,
   "metadata": {},
   "outputs": [],
   "source": [
    "import numpy as np\n",
    "import matplotlib.pyplot as plt\n",
    "from scipy import integrate\n",
    "import pandas as pd\n",
    "import pyesapi\n",
    "import atexit\n",
    "import SimpleITK as sitk"
   ]
  },
  {
   "cell_type": "code",
   "execution_count": 2,
   "metadata": {},
   "outputs": [
    {
     "data": {
      "text/plain": [
       "<bound method 'Dispose'>"
      ]
     },
     "execution_count": 2,
     "metadata": {},
     "output_type": "execute_result"
    }
   ],
   "source": [
    "app = pyesapi.CustomScriptExecutable.CreateApplication('python_demo')\n",
    "atexit.register(app.Dispose)"
   ]
  },
  {
   "cell_type": "code",
   "execution_count": 3,
   "metadata": {},
   "outputs": [],
   "source": [
    "\n",
    "# แก้ชื่อตรงนี้\n",
    "patient_id = \"5732385\"\n",
    "course_id = \"C2\"\n",
    "\n",
    "#############################################\n",
    "app.ClosePatient()\n",
    "patient = app.OpenPatientById(patient_id)\n",
    "\n",
    "course = patient.CoursesLot(course_id)"
   ]
  },
  {
   "cell_type": "code",
   "execution_count": 4,
   "metadata": {},
   "outputs": [],
   "source": [
    "def plot_dvh(dose_x, volume_y, structure):\n",
    "    plt.plot(dose_x, volume_y, label = structure.Id)\n",
    "    \n",
    "def get_dvh_dose_volume(structure, plan):\n",
    "    dvh = plan.GetDVHCumulativeData(\n",
    "        structure,\n",
    "        pyesapi.DoseValuePresentation.Absolute,\n",
    "        pyesapi.VolumePresentation.Relative,\n",
    "        0.01)\n",
    "    if dvh is not None:\n",
    "        dose_x = [p.DoseValue.Dose for p in dvh.CurveData]\n",
    "        volume_y = [p.Volume for p in dvh.CurveData]\n",
    "    return dvh, np.array(dose_x)/100, np.array(volume_y)\n",
    "\n",
    "\n",
    "def get_volume_fraction(dose, volume):\n",
    "    dx = dose[1]-dose[0]\n",
    "    deriv = np.diff(volume[::-1])[::-1]/dx\n",
    "    return deriv/np.sum(deriv)\n",
    "\n",
    "def mld(dose, volume):\n",
    "    deriv = get_volume_fraction(dose, volume)\n",
    "    mld = np.sum(deriv*dose[:-1])\n",
    "    \n",
    "    return mld\n",
    "\n",
    "def summary_dvh(dvh):\n",
    "    print(f\"Structure volume is {dvh.Volume}\")\n",
    "    print(f\"Max dose is {dvh.MaxDose}\")\n",
    "    print(f\"Min dose is {dvh.MinDose}\")\n",
    "    print(f\"Mean lung dose is {dvh.MeanDose}\")\n",
    "    print(f\"Median lung dose is {dvh.MedianDose}\")\n",
    "    \n",
    "def generalize_eud(dose, volume):\n",
    "    n = 0.99\n",
    "    fraction = get_volume_fraction(dose, volume)\n",
    "    eud = np.sum(dose[:-1]**(1/n)* fraction )**n\n",
    "    return eud\n",
    "\n",
    "def gaussian(t):\n",
    "    k = 1/np.sqrt(np.pi*2)\n",
    "    return k*np.exp(-t**2/2)\n",
    "\n",
    "def ntcp_lyman(dose, volume):\n",
    "    eud = generalize_eud(dose, volume)\n",
    "    td50 = 30.8\n",
    "    m = 0.37\n",
    "\n",
    "    t = (eud-td50)/(m*td50)\n",
    "    a = integrate.quad(gaussian, -np.inf, t)[0]\n",
    "\n",
    "    return a\n"
   ]
  },
  {
   "cell_type": "code",
   "execution_count": null,
   "metadata": {
    "scrolled": false
   },
   "outputs": [],
   "source": [
    "\n",
    "for plan in course.PlanSetups:\n",
    "    #structure_result = {\"structure\": [], \"dicomtype\":[],\"value\":[]}\n",
    "    \n",
    "    print(f\"Start plan {plan.Id}\")\n",
    "    print(\"---------------------------------------------------\")\n",
    "    structures  = plan.StructureSet.Structures\n",
    "    plt.figure(figsize = (20,10))\n",
    "    for structure in structures:\n",
    "        \n",
    "        \n",
    "        if structure.DicomType == \"ORGAN\":\n",
    "\n",
    "            print(f\"----ORGAN---{structure}\")\n",
    "            dvh, x, y = get_dvh_dose_volume(structure, plan)\n",
    "            summary_dvh(dvh)\n",
    "            plot_dvh(x,y, structure)\n",
    "            \n",
    "            eud = generalize_eud(x, y)\n",
    "            ntcp = ntcp_lyman(x,y)*100\n",
    "            \n",
    "            #structure_result[\"structure\"].append(structure.Id)\n",
    "            #structure_result[\"dicomtype\"].append(structure.DicomType)\n",
    "            #structure_result[\"value\"].append(ntcp)\n",
    "            print(f\"EUD of this structure is:{eud}\")\n",
    "            print(f\"NTCP of this structure is:{np.round(ntcp,2)} %\")\n",
    "        elif structure.DicomType == \"CTV\":\n",
    "            print(f\"----CTV---{structure}\")\n",
    "        elif structure.DicomType == \"PTV\":\n",
    "            print(f\"----PTV---{structure}\")\n",
    "            dvh, x, y = get_dvh_dose_volume(structure, plan)\n",
    "            summary_dvh(dvh)\n",
    "            plot_dvh(x,y, structure)\n",
    "            \n",
    "            eud = generalize_eud(x, y)\n",
    "            ntcp = ntcp_lyman(x,y)*100\n",
    "            \n",
    "            #structure_result[\"structure\"].append(structure.Id)\n",
    "            #structure_result[\"dicomtype\"].append(structure.DicomType)\n",
    "            #structure_result[\"value\"].append(ntcp)\n",
    "            print(f\"EUD of this structure is:{eud}\")\n",
    "            print(f\"NTCP of this structure is:{np.round(ntcp,2)} %\")\n",
    "        elif structure.DicomType == \"GTV\":\n",
    "            print(f\"----GTV---{structure}\")\n",
    "    plt.legend(loc=0)\n",
    "    plt.show()"
   ]
  },
  {
   "cell_type": "code",
   "execution_count": null,
   "metadata": {},
   "outputs": [],
   "source": []
  }
 ],
 "metadata": {
  "kernelspec": {
   "display_name": "Python 3",
   "language": "python",
   "name": "python3"
  },
  "language_info": {
   "codemirror_mode": {
    "name": "ipython",
    "version": 3
   },
   "file_extension": ".py",
   "mimetype": "text/x-python",
   "name": "python",
   "nbconvert_exporter": "python",
   "pygments_lexer": "ipython3",
   "version": "3.8.5"
  }
 },
 "nbformat": 4,
 "nbformat_minor": 4
}
